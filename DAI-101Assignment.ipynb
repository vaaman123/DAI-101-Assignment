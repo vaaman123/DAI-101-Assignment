{
 "cells": [
  {
   "cell_type": "code",
   "execution_count": 2,
   "id": "06b97ead-4e82-4907-8912-27da7a92a277",
   "metadata": {},
   "outputs": [],
   "source": [
    "import matplotlib.pyplot as plt\n",
    "import seaborn as sns\n",
    "import pandas as pd\n",
    "import numpy as np\n",
    "import scipy.stats.distributions as dist\n"
   ]
  },
  {
   "cell_type": "code",
   "execution_count": 3,
   "id": "d1c662b0-0d39-4946-968f-cd5e4ad7e184",
   "metadata": {},
   "outputs": [
    {
     "data": {
      "text/html": [
       "<div>\n",
       "<style scoped>\n",
       "    .dataframe tbody tr th:only-of-type {\n",
       "        vertical-align: middle;\n",
       "    }\n",
       "\n",
       "    .dataframe tbody tr th {\n",
       "        vertical-align: top;\n",
       "    }\n",
       "\n",
       "    .dataframe thead th {\n",
       "        text-align: right;\n",
       "    }\n",
       "</style>\n",
       "<table border=\"1\" class=\"dataframe\">\n",
       "  <thead>\n",
       "    <tr style=\"text-align: right;\">\n",
       "      <th></th>\n",
       "      <th>IDpol</th>\n",
       "      <th>ClaimNb</th>\n",
       "      <th>Exposure</th>\n",
       "      <th>Area</th>\n",
       "      <th>VehPower</th>\n",
       "      <th>VehAge</th>\n",
       "      <th>DrivAge</th>\n",
       "      <th>BonusMalus</th>\n",
       "      <th>VehBrand</th>\n",
       "      <th>VehGas</th>\n",
       "      <th>Density</th>\n",
       "      <th>Region</th>\n",
       "    </tr>\n",
       "  </thead>\n",
       "  <tbody>\n",
       "    <tr>\n",
       "      <th>0</th>\n",
       "      <td>1.0</td>\n",
       "      <td>1</td>\n",
       "      <td>0.10</td>\n",
       "      <td>D</td>\n",
       "      <td>5</td>\n",
       "      <td>0</td>\n",
       "      <td>55</td>\n",
       "      <td>50</td>\n",
       "      <td>B12</td>\n",
       "      <td>Regular</td>\n",
       "      <td>1217</td>\n",
       "      <td>R82</td>\n",
       "    </tr>\n",
       "    <tr>\n",
       "      <th>1</th>\n",
       "      <td>3.0</td>\n",
       "      <td>1</td>\n",
       "      <td>0.77</td>\n",
       "      <td>D</td>\n",
       "      <td>5</td>\n",
       "      <td>0</td>\n",
       "      <td>55</td>\n",
       "      <td>50</td>\n",
       "      <td>B12</td>\n",
       "      <td>Regular</td>\n",
       "      <td>1217</td>\n",
       "      <td>R82</td>\n",
       "    </tr>\n",
       "    <tr>\n",
       "      <th>2</th>\n",
       "      <td>5.0</td>\n",
       "      <td>1</td>\n",
       "      <td>0.75</td>\n",
       "      <td>B</td>\n",
       "      <td>6</td>\n",
       "      <td>2</td>\n",
       "      <td>52</td>\n",
       "      <td>50</td>\n",
       "      <td>B12</td>\n",
       "      <td>Diesel</td>\n",
       "      <td>54</td>\n",
       "      <td>R22</td>\n",
       "    </tr>\n",
       "    <tr>\n",
       "      <th>3</th>\n",
       "      <td>10.0</td>\n",
       "      <td>1</td>\n",
       "      <td>0.09</td>\n",
       "      <td>B</td>\n",
       "      <td>7</td>\n",
       "      <td>0</td>\n",
       "      <td>46</td>\n",
       "      <td>50</td>\n",
       "      <td>B12</td>\n",
       "      <td>Diesel</td>\n",
       "      <td>76</td>\n",
       "      <td>R72</td>\n",
       "    </tr>\n",
       "    <tr>\n",
       "      <th>4</th>\n",
       "      <td>11.0</td>\n",
       "      <td>1</td>\n",
       "      <td>0.84</td>\n",
       "      <td>B</td>\n",
       "      <td>7</td>\n",
       "      <td>0</td>\n",
       "      <td>46</td>\n",
       "      <td>50</td>\n",
       "      <td>B12</td>\n",
       "      <td>Diesel</td>\n",
       "      <td>76</td>\n",
       "      <td>R72</td>\n",
       "    </tr>\n",
       "  </tbody>\n",
       "</table>\n",
       "</div>"
      ],
      "text/plain": [
       "   IDpol  ClaimNb  Exposure Area  VehPower  VehAge  DrivAge  BonusMalus  \\\n",
       "0    1.0        1      0.10    D         5       0       55          50   \n",
       "1    3.0        1      0.77    D         5       0       55          50   \n",
       "2    5.0        1      0.75    B         6       2       52          50   \n",
       "3   10.0        1      0.09    B         7       0       46          50   \n",
       "4   11.0        1      0.84    B         7       0       46          50   \n",
       "\n",
       "  VehBrand   VehGas  Density Region  \n",
       "0      B12  Regular     1217    R82  \n",
       "1      B12  Regular     1217    R82  \n",
       "2      B12   Diesel       54    R22  \n",
       "3      B12   Diesel       76    R72  \n",
       "4      B12   Diesel       76    R72  "
      ]
     },
     "execution_count": 3,
     "metadata": {},
     "output_type": "execute_result"
    }
   ],
   "source": [
    "df = pd.read_csv(\"dataset.csv\")\n",
    "df.head()"
   ]
  },
  {
   "cell_type": "code",
   "execution_count": 4,
   "id": "4058bb31-bc1a-4c8c-97c7-bba69068c1c6",
   "metadata": {},
   "outputs": [
    {
     "name": "stdout",
     "output_type": "stream",
     "text": [
      "(678013, 12) \n",
      "we have 678013 participents\n"
     ]
    }
   ],
   "source": [
    "num= df.shape\n",
    "print(num ,'\\n' f'we have {num[0]} participents')"
   ]
  },
  {
   "cell_type": "code",
   "execution_count": 8,
   "id": "93581dfb-9be8-4248-b02c-1d8d7d18cce9",
   "metadata": {},
   "outputs": [
    {
     "data": {
      "text/html": [
       "<pre style=\"white-space:pre;overflow-x:auto;line-height:normal;font-family:Menlo,'DejaVu Sans Mono',consolas,'Courier New',monospace\">╭──────────────────────────────────────────────── skimpy summary ─────────────────────────────────────────────────╮\n",
       "│ <span style=\"font-style: italic\">         Data Summary         </span> <span style=\"font-style: italic\">      Data Types       </span>                                                          │\n",
       "│ ┏━━━━━━━━━━━━━━━━━━━┳━━━━━━━━┓ ┏━━━━━━━━━━━━━┳━━━━━━━┓                                                          │\n",
       "│ ┃<span style=\"color: #008080; text-decoration-color: #008080; font-weight: bold\"> Dataframe         </span>┃<span style=\"color: #008080; text-decoration-color: #008080; font-weight: bold\"> Values </span>┃ ┃<span style=\"color: #008080; text-decoration-color: #008080; font-weight: bold\"> Column Type </span>┃<span style=\"color: #008080; text-decoration-color: #008080; font-weight: bold\"> Count </span>┃                                                          │\n",
       "│ ┡━━━━━━━━━━━━━━━━━━━╇━━━━━━━━┩ ┡━━━━━━━━━━━━━╇━━━━━━━┩                                                          │\n",
       "│ │ Number of rows    │ 678013 │ │ int32       │ 6     │                                                          │\n",
       "│ │ Number of columns │ 12     │ │ string      │ 4     │                                                          │\n",
       "│ └───────────────────┴────────┘ │ float64     │ 2     │                                                          │\n",
       "│                                └─────────────┴───────┘                                                          │\n",
       "│ <span style=\"font-style: italic\">                                                    number                                                    </span>  │\n",
       "│ ┏━━━━━━━━━━━━━┳━━━━━┳━━━━━━━┳━━━━━━━━━━┳━━━━━━━━━┳━━━━━━━━━━┳━━━━━━━━━┳━━━━━━━━━┳━━━━━━━━━┳━━━━━━━━━┳━━━━━━━━┓  │\n",
       "│ ┃<span style=\"font-weight: bold\"> column      </span>┃<span style=\"font-weight: bold\"> NA  </span>┃<span style=\"font-weight: bold\"> NA %  </span>┃<span style=\"font-weight: bold\"> mean     </span>┃<span style=\"font-weight: bold\"> sd      </span>┃<span style=\"font-weight: bold\"> p0       </span>┃<span style=\"font-weight: bold\"> p25     </span>┃<span style=\"font-weight: bold\"> p50     </span>┃<span style=\"font-weight: bold\"> p75     </span>┃<span style=\"font-weight: bold\"> p100    </span>┃<span style=\"font-weight: bold\"> hist   </span>┃  │\n",
       "│ ┡━━━━━━━━━━━━━╇━━━━━╇━━━━━━━╇━━━━━━━━━━╇━━━━━━━━━╇━━━━━━━━━━╇━━━━━━━━━╇━━━━━━━━━╇━━━━━━━━━╇━━━━━━━━━╇━━━━━━━━┩  │\n",
       "│ │ <span style=\"color: #af87ff; text-decoration-color: #af87ff\">IDpol      </span> │ <span style=\"color: #008080; text-decoration-color: #008080\">  0</span> │ <span style=\"color: #008080; text-decoration-color: #008080\">    0</span> │ <span style=\"color: #008080; text-decoration-color: #008080\"> 2622000</span> │ <span style=\"color: #008080; text-decoration-color: #008080\">1642000</span> │ <span style=\"color: #008080; text-decoration-color: #008080\">       1</span> │ <span style=\"color: #008080; text-decoration-color: #008080\">1158000</span> │ <span style=\"color: #008080; text-decoration-color: #008080\">2272000</span> │ <span style=\"color: #008080; text-decoration-color: #008080\">4046000</span> │ <span style=\"color: #008080; text-decoration-color: #008080\">6114000</span> │ <span style=\"color: #008000; text-decoration-color: #008000\">▅▅▇▆▅▂</span> │  │\n",
       "│ │ <span style=\"color: #af87ff; text-decoration-color: #af87ff\">ClaimNb    </span> │ <span style=\"color: #008080; text-decoration-color: #008080\">  0</span> │ <span style=\"color: #008080; text-decoration-color: #008080\">    0</span> │ <span style=\"color: #008080; text-decoration-color: #008080\"> 0.05325</span> │ <span style=\"color: #008080; text-decoration-color: #008080\"> 0.2401</span> │ <span style=\"color: #008080; text-decoration-color: #008080\">       0</span> │ <span style=\"color: #008080; text-decoration-color: #008080\">      0</span> │ <span style=\"color: #008080; text-decoration-color: #008080\">      0</span> │ <span style=\"color: #008080; text-decoration-color: #008080\">      0</span> │ <span style=\"color: #008080; text-decoration-color: #008080\">     16</span> │ <span style=\"color: #008000; text-decoration-color: #008000\">  ▇   </span> │  │\n",
       "│ │ <span style=\"color: #af87ff; text-decoration-color: #af87ff\">Exposure   </span> │ <span style=\"color: #008080; text-decoration-color: #008080\">  0</span> │ <span style=\"color: #008080; text-decoration-color: #008080\">    0</span> │ <span style=\"color: #008080; text-decoration-color: #008080\">  0.5288</span> │ <span style=\"color: #008080; text-decoration-color: #008080\"> 0.3644</span> │ <span style=\"color: #008080; text-decoration-color: #008080\">0.002732</span> │ <span style=\"color: #008080; text-decoration-color: #008080\">   0.18</span> │ <span style=\"color: #008080; text-decoration-color: #008080\">   0.49</span> │ <span style=\"color: #008080; text-decoration-color: #008080\">   0.99</span> │ <span style=\"color: #008080; text-decoration-color: #008080\">   2.01</span> │ <span style=\"color: #008000; text-decoration-color: #008000\"> ▇▅▇  </span> │  │\n",
       "│ │ <span style=\"color: #af87ff; text-decoration-color: #af87ff\">VehPower   </span> │ <span style=\"color: #008080; text-decoration-color: #008080\">  0</span> │ <span style=\"color: #008080; text-decoration-color: #008080\">    0</span> │ <span style=\"color: #008080; text-decoration-color: #008080\">   6.455</span> │ <span style=\"color: #008080; text-decoration-color: #008080\">  2.051</span> │ <span style=\"color: #008080; text-decoration-color: #008080\">       4</span> │ <span style=\"color: #008080; text-decoration-color: #008080\">      5</span> │ <span style=\"color: #008080; text-decoration-color: #008080\">      6</span> │ <span style=\"color: #008080; text-decoration-color: #008080\">      7</span> │ <span style=\"color: #008080; text-decoration-color: #008080\">     15</span> │ <span style=\"color: #008000; text-decoration-color: #008000\"> ▇▇▂▁ </span> │  │\n",
       "│ │ <span style=\"color: #af87ff; text-decoration-color: #af87ff\">VehAge     </span> │ <span style=\"color: #008080; text-decoration-color: #008080\">  0</span> │ <span style=\"color: #008080; text-decoration-color: #008080\">    0</span> │ <span style=\"color: #008080; text-decoration-color: #008080\">   7.044</span> │ <span style=\"color: #008080; text-decoration-color: #008080\">  5.666</span> │ <span style=\"color: #008080; text-decoration-color: #008080\">       0</span> │ <span style=\"color: #008080; text-decoration-color: #008080\">      2</span> │ <span style=\"color: #008080; text-decoration-color: #008080\">      6</span> │ <span style=\"color: #008080; text-decoration-color: #008080\">     11</span> │ <span style=\"color: #008080; text-decoration-color: #008080\">    100</span> │ <span style=\"color: #008000; text-decoration-color: #008000\">  ▇   </span> │  │\n",
       "│ │ <span style=\"color: #af87ff; text-decoration-color: #af87ff\">DrivAge    </span> │ <span style=\"color: #008080; text-decoration-color: #008080\">  0</span> │ <span style=\"color: #008080; text-decoration-color: #008080\">    0</span> │ <span style=\"color: #008080; text-decoration-color: #008080\">    45.5</span> │ <span style=\"color: #008080; text-decoration-color: #008080\">  14.14</span> │ <span style=\"color: #008080; text-decoration-color: #008080\">      18</span> │ <span style=\"color: #008080; text-decoration-color: #008080\">     34</span> │ <span style=\"color: #008080; text-decoration-color: #008080\">     44</span> │ <span style=\"color: #008080; text-decoration-color: #008080\">     55</span> │ <span style=\"color: #008080; text-decoration-color: #008080\">    100</span> │ <span style=\"color: #008000; text-decoration-color: #008000\">▅▇▇▃▁ </span> │  │\n",
       "│ │ <span style=\"color: #af87ff; text-decoration-color: #af87ff\">BonusMalus </span> │ <span style=\"color: #008080; text-decoration-color: #008080\">  0</span> │ <span style=\"color: #008080; text-decoration-color: #008080\">    0</span> │ <span style=\"color: #008080; text-decoration-color: #008080\">   59.76</span> │ <span style=\"color: #008080; text-decoration-color: #008080\">  15.64</span> │ <span style=\"color: #008080; text-decoration-color: #008080\">      50</span> │ <span style=\"color: #008080; text-decoration-color: #008080\">     50</span> │ <span style=\"color: #008080; text-decoration-color: #008080\">     50</span> │ <span style=\"color: #008080; text-decoration-color: #008080\">     64</span> │ <span style=\"color: #008080; text-decoration-color: #008080\">    230</span> │ <span style=\"color: #008000; text-decoration-color: #008000\">  ▇▁  </span> │  │\n",
       "│ │ <span style=\"color: #af87ff; text-decoration-color: #af87ff\">Density    </span> │ <span style=\"color: #008080; text-decoration-color: #008080\">  0</span> │ <span style=\"color: #008080; text-decoration-color: #008080\">    0</span> │ <span style=\"color: #008080; text-decoration-color: #008080\">    1792</span> │ <span style=\"color: #008080; text-decoration-color: #008080\">   3959</span> │ <span style=\"color: #008080; text-decoration-color: #008080\">       1</span> │ <span style=\"color: #008080; text-decoration-color: #008080\">     92</span> │ <span style=\"color: #008080; text-decoration-color: #008080\">    393</span> │ <span style=\"color: #008080; text-decoration-color: #008080\">   1658</span> │ <span style=\"color: #008080; text-decoration-color: #008080\">  27000</span> │ <span style=\"color: #008000; text-decoration-color: #008000\">  ▇   </span> │  │\n",
       "│ └─────────────┴─────┴───────┴──────────┴─────────┴──────────┴─────────┴─────────┴─────────┴─────────┴────────┘  │\n",
       "│ <span style=\"font-style: italic\">                                                    string                                                    </span>  │\n",
       "│ ┏━━━━━━━━━━┳━━━━┳━━━━━━┳━━━━━━━━━━┳━━━━━━━━━┳━━━━━━━━┳━━━━━━━━━┳━━━━━━━━━━━━━━━┳━━━━━━━━━━━━━━━┳━━━━━━━━━━━━━┓  │\n",
       "│ ┃<span style=\"font-weight: bold\"> column   </span>┃<span style=\"font-weight: bold\"> NA </span>┃<span style=\"font-weight: bold\"> NA % </span>┃<span style=\"font-weight: bold\"> shortest </span>┃<span style=\"font-weight: bold\"> longest </span>┃<span style=\"font-weight: bold\"> min    </span>┃<span style=\"font-weight: bold\"> max     </span>┃<span style=\"font-weight: bold\"> chars per row </span>┃<span style=\"font-weight: bold\"> words per row </span>┃<span style=\"font-weight: bold\"> total words </span>┃  │\n",
       "│ ┡━━━━━━━━━━╇━━━━╇━━━━━━╇━━━━━━━━━━╇━━━━━━━━━╇━━━━━━━━╇━━━━━━━━━╇━━━━━━━━━━━━━━━╇━━━━━━━━━━━━━━━╇━━━━━━━━━━━━━┩  │\n",
       "│ │ <span style=\"color: #af87ff; text-decoration-color: #af87ff\">Area    </span> │ <span style=\"color: #008080; text-decoration-color: #008080\"> 0</span> │ <span style=\"color: #008080; text-decoration-color: #008080\">   0</span> │ <span style=\"color: #af87ff; text-decoration-color: #af87ff\">D       </span> │ <span style=\"color: #af87ff; text-decoration-color: #af87ff\">D      </span> │ <span style=\"color: #af87ff; text-decoration-color: #af87ff\">A     </span> │ <span style=\"color: #af87ff; text-decoration-color: #af87ff\">F      </span> │ <span style=\"color: #008080; text-decoration-color: #008080\">            1</span> │ <span style=\"color: #008080; text-decoration-color: #008080\">            1</span> │ <span style=\"color: #008080; text-decoration-color: #008080\">     678013</span> │  │\n",
       "│ │ <span style=\"color: #af87ff; text-decoration-color: #af87ff\">VehBrand</span> │ <span style=\"color: #008080; text-decoration-color: #008080\"> 0</span> │ <span style=\"color: #008080; text-decoration-color: #008080\">   0</span> │ <span style=\"color: #af87ff; text-decoration-color: #af87ff\">B6      </span> │ <span style=\"color: #af87ff; text-decoration-color: #af87ff\">B12    </span> │ <span style=\"color: #af87ff; text-decoration-color: #af87ff\">B1    </span> │ <span style=\"color: #af87ff; text-decoration-color: #af87ff\">B6     </span> │ <span style=\"color: #008080; text-decoration-color: #008080\">         2.31</span> │ <span style=\"color: #008080; text-decoration-color: #008080\">            1</span> │ <span style=\"color: #008080; text-decoration-color: #008080\">     678013</span> │  │\n",
       "│ │ <span style=\"color: #af87ff; text-decoration-color: #af87ff\">VehGas  </span> │ <span style=\"color: #008080; text-decoration-color: #008080\"> 0</span> │ <span style=\"color: #008080; text-decoration-color: #008080\">   0</span> │ <span style=\"color: #af87ff; text-decoration-color: #af87ff\">Diesel  </span> │ <span style=\"color: #af87ff; text-decoration-color: #af87ff\">Regular</span> │ <span style=\"color: #af87ff; text-decoration-color: #af87ff\">Diesel</span> │ <span style=\"color: #af87ff; text-decoration-color: #af87ff\">Regular</span> │ <span style=\"color: #008080; text-decoration-color: #008080\">         6.51</span> │ <span style=\"color: #008080; text-decoration-color: #008080\">            1</span> │ <span style=\"color: #008080; text-decoration-color: #008080\">     678013</span> │  │\n",
       "│ │ <span style=\"color: #af87ff; text-decoration-color: #af87ff\">Region  </span> │ <span style=\"color: #008080; text-decoration-color: #008080\"> 0</span> │ <span style=\"color: #008080; text-decoration-color: #008080\">   0</span> │ <span style=\"color: #af87ff; text-decoration-color: #af87ff\">R82     </span> │ <span style=\"color: #af87ff; text-decoration-color: #af87ff\">R82    </span> │ <span style=\"color: #af87ff; text-decoration-color: #af87ff\">R11   </span> │ <span style=\"color: #af87ff; text-decoration-color: #af87ff\">R94    </span> │ <span style=\"color: #008080; text-decoration-color: #008080\">            3</span> │ <span style=\"color: #008080; text-decoration-color: #008080\">            1</span> │ <span style=\"color: #008080; text-decoration-color: #008080\">     678013</span> │  │\n",
       "│ └──────────┴────┴──────┴──────────┴─────────┴────────┴─────────┴───────────────┴───────────────┴─────────────┘  │\n",
       "╰────────────────────────────────────────────────────── End ──────────────────────────────────────────────────────╯\n",
       "</pre>\n"
      ],
      "text/plain": [
       "╭──────────────────────────────────────────────── skimpy summary ─────────────────────────────────────────────────╮\n",
       "│ \u001b[3m         Data Summary         \u001b[0m \u001b[3m      Data Types       \u001b[0m                                                          │\n",
       "│ ┏━━━━━━━━━━━━━━━━━━━┳━━━━━━━━┓ ┏━━━━━━━━━━━━━┳━━━━━━━┓                                                          │\n",
       "│ ┃\u001b[1;36m \u001b[0m\u001b[1;36mDataframe        \u001b[0m\u001b[1;36m \u001b[0m┃\u001b[1;36m \u001b[0m\u001b[1;36mValues\u001b[0m\u001b[1;36m \u001b[0m┃ ┃\u001b[1;36m \u001b[0m\u001b[1;36mColumn Type\u001b[0m\u001b[1;36m \u001b[0m┃\u001b[1;36m \u001b[0m\u001b[1;36mCount\u001b[0m\u001b[1;36m \u001b[0m┃                                                          │\n",
       "│ ┡━━━━━━━━━━━━━━━━━━━╇━━━━━━━━┩ ┡━━━━━━━━━━━━━╇━━━━━━━┩                                                          │\n",
       "│ │ Number of rows    │ 678013 │ │ int32       │ 6     │                                                          │\n",
       "│ │ Number of columns │ 12     │ │ string      │ 4     │                                                          │\n",
       "│ └───────────────────┴────────┘ │ float64     │ 2     │                                                          │\n",
       "│                                └─────────────┴───────┘                                                          │\n",
       "│ \u001b[3m                                                    number                                                    \u001b[0m  │\n",
       "│ ┏━━━━━━━━━━━━━┳━━━━━┳━━━━━━━┳━━━━━━━━━━┳━━━━━━━━━┳━━━━━━━━━━┳━━━━━━━━━┳━━━━━━━━━┳━━━━━━━━━┳━━━━━━━━━┳━━━━━━━━┓  │\n",
       "│ ┃\u001b[1m \u001b[0m\u001b[1mcolumn     \u001b[0m\u001b[1m \u001b[0m┃\u001b[1m \u001b[0m\u001b[1mNA \u001b[0m\u001b[1m \u001b[0m┃\u001b[1m \u001b[0m\u001b[1mNA % \u001b[0m\u001b[1m \u001b[0m┃\u001b[1m \u001b[0m\u001b[1mmean    \u001b[0m\u001b[1m \u001b[0m┃\u001b[1m \u001b[0m\u001b[1msd     \u001b[0m\u001b[1m \u001b[0m┃\u001b[1m \u001b[0m\u001b[1mp0      \u001b[0m\u001b[1m \u001b[0m┃\u001b[1m \u001b[0m\u001b[1mp25    \u001b[0m\u001b[1m \u001b[0m┃\u001b[1m \u001b[0m\u001b[1mp50    \u001b[0m\u001b[1m \u001b[0m┃\u001b[1m \u001b[0m\u001b[1mp75    \u001b[0m\u001b[1m \u001b[0m┃\u001b[1m \u001b[0m\u001b[1mp100   \u001b[0m\u001b[1m \u001b[0m┃\u001b[1m \u001b[0m\u001b[1mhist  \u001b[0m\u001b[1m \u001b[0m┃  │\n",
       "│ ┡━━━━━━━━━━━━━╇━━━━━╇━━━━━━━╇━━━━━━━━━━╇━━━━━━━━━╇━━━━━━━━━━╇━━━━━━━━━╇━━━━━━━━━╇━━━━━━━━━╇━━━━━━━━━╇━━━━━━━━┩  │\n",
       "│ │ \u001b[38;5;141mIDpol      \u001b[0m │ \u001b[36m  0\u001b[0m │ \u001b[36m    0\u001b[0m │ \u001b[36m 2622000\u001b[0m │ \u001b[36m1642000\u001b[0m │ \u001b[36m       1\u001b[0m │ \u001b[36m1158000\u001b[0m │ \u001b[36m2272000\u001b[0m │ \u001b[36m4046000\u001b[0m │ \u001b[36m6114000\u001b[0m │ \u001b[32m▅▅▇▆▅▂\u001b[0m │  │\n",
       "│ │ \u001b[38;5;141mClaimNb    \u001b[0m │ \u001b[36m  0\u001b[0m │ \u001b[36m    0\u001b[0m │ \u001b[36m 0.05325\u001b[0m │ \u001b[36m 0.2401\u001b[0m │ \u001b[36m       0\u001b[0m │ \u001b[36m      0\u001b[0m │ \u001b[36m      0\u001b[0m │ \u001b[36m      0\u001b[0m │ \u001b[36m     16\u001b[0m │ \u001b[32m  ▇   \u001b[0m │  │\n",
       "│ │ \u001b[38;5;141mExposure   \u001b[0m │ \u001b[36m  0\u001b[0m │ \u001b[36m    0\u001b[0m │ \u001b[36m  0.5288\u001b[0m │ \u001b[36m 0.3644\u001b[0m │ \u001b[36m0.002732\u001b[0m │ \u001b[36m   0.18\u001b[0m │ \u001b[36m   0.49\u001b[0m │ \u001b[36m   0.99\u001b[0m │ \u001b[36m   2.01\u001b[0m │ \u001b[32m ▇▅▇  \u001b[0m │  │\n",
       "│ │ \u001b[38;5;141mVehPower   \u001b[0m │ \u001b[36m  0\u001b[0m │ \u001b[36m    0\u001b[0m │ \u001b[36m   6.455\u001b[0m │ \u001b[36m  2.051\u001b[0m │ \u001b[36m       4\u001b[0m │ \u001b[36m      5\u001b[0m │ \u001b[36m      6\u001b[0m │ \u001b[36m      7\u001b[0m │ \u001b[36m     15\u001b[0m │ \u001b[32m ▇▇▂▁ \u001b[0m │  │\n",
       "│ │ \u001b[38;5;141mVehAge     \u001b[0m │ \u001b[36m  0\u001b[0m │ \u001b[36m    0\u001b[0m │ \u001b[36m   7.044\u001b[0m │ \u001b[36m  5.666\u001b[0m │ \u001b[36m       0\u001b[0m │ \u001b[36m      2\u001b[0m │ \u001b[36m      6\u001b[0m │ \u001b[36m     11\u001b[0m │ \u001b[36m    100\u001b[0m │ \u001b[32m  ▇   \u001b[0m │  │\n",
       "│ │ \u001b[38;5;141mDrivAge    \u001b[0m │ \u001b[36m  0\u001b[0m │ \u001b[36m    0\u001b[0m │ \u001b[36m    45.5\u001b[0m │ \u001b[36m  14.14\u001b[0m │ \u001b[36m      18\u001b[0m │ \u001b[36m     34\u001b[0m │ \u001b[36m     44\u001b[0m │ \u001b[36m     55\u001b[0m │ \u001b[36m    100\u001b[0m │ \u001b[32m▅▇▇▃▁ \u001b[0m │  │\n",
       "│ │ \u001b[38;5;141mBonusMalus \u001b[0m │ \u001b[36m  0\u001b[0m │ \u001b[36m    0\u001b[0m │ \u001b[36m   59.76\u001b[0m │ \u001b[36m  15.64\u001b[0m │ \u001b[36m      50\u001b[0m │ \u001b[36m     50\u001b[0m │ \u001b[36m     50\u001b[0m │ \u001b[36m     64\u001b[0m │ \u001b[36m    230\u001b[0m │ \u001b[32m  ▇▁  \u001b[0m │  │\n",
       "│ │ \u001b[38;5;141mDensity    \u001b[0m │ \u001b[36m  0\u001b[0m │ \u001b[36m    0\u001b[0m │ \u001b[36m    1792\u001b[0m │ \u001b[36m   3959\u001b[0m │ \u001b[36m       1\u001b[0m │ \u001b[36m     92\u001b[0m │ \u001b[36m    393\u001b[0m │ \u001b[36m   1658\u001b[0m │ \u001b[36m  27000\u001b[0m │ \u001b[32m  ▇   \u001b[0m │  │\n",
       "│ └─────────────┴─────┴───────┴──────────┴─────────┴──────────┴─────────┴─────────┴─────────┴─────────┴────────┘  │\n",
       "│ \u001b[3m                                                    string                                                    \u001b[0m  │\n",
       "│ ┏━━━━━━━━━━┳━━━━┳━━━━━━┳━━━━━━━━━━┳━━━━━━━━━┳━━━━━━━━┳━━━━━━━━━┳━━━━━━━━━━━━━━━┳━━━━━━━━━━━━━━━┳━━━━━━━━━━━━━┓  │\n",
       "│ ┃\u001b[1m \u001b[0m\u001b[1mcolumn  \u001b[0m\u001b[1m \u001b[0m┃\u001b[1m \u001b[0m\u001b[1mNA\u001b[0m\u001b[1m \u001b[0m┃\u001b[1m \u001b[0m\u001b[1mNA %\u001b[0m\u001b[1m \u001b[0m┃\u001b[1m \u001b[0m\u001b[1mshortest\u001b[0m\u001b[1m \u001b[0m┃\u001b[1m \u001b[0m\u001b[1mlongest\u001b[0m\u001b[1m \u001b[0m┃\u001b[1m \u001b[0m\u001b[1mmin   \u001b[0m\u001b[1m \u001b[0m┃\u001b[1m \u001b[0m\u001b[1mmax    \u001b[0m\u001b[1m \u001b[0m┃\u001b[1m \u001b[0m\u001b[1mchars per row\u001b[0m\u001b[1m \u001b[0m┃\u001b[1m \u001b[0m\u001b[1mwords per row\u001b[0m\u001b[1m \u001b[0m┃\u001b[1m \u001b[0m\u001b[1mtotal words\u001b[0m\u001b[1m \u001b[0m┃  │\n",
       "│ ┡━━━━━━━━━━╇━━━━╇━━━━━━╇━━━━━━━━━━╇━━━━━━━━━╇━━━━━━━━╇━━━━━━━━━╇━━━━━━━━━━━━━━━╇━━━━━━━━━━━━━━━╇━━━━━━━━━━━━━┩  │\n",
       "│ │ \u001b[38;5;141mArea    \u001b[0m │ \u001b[36m 0\u001b[0m │ \u001b[36m   0\u001b[0m │ \u001b[38;5;141mD       \u001b[0m │ \u001b[38;5;141mD      \u001b[0m │ \u001b[38;5;141mA     \u001b[0m │ \u001b[38;5;141mF      \u001b[0m │ \u001b[36m            1\u001b[0m │ \u001b[36m            1\u001b[0m │ \u001b[36m     678013\u001b[0m │  │\n",
       "│ │ \u001b[38;5;141mVehBrand\u001b[0m │ \u001b[36m 0\u001b[0m │ \u001b[36m   0\u001b[0m │ \u001b[38;5;141mB6      \u001b[0m │ \u001b[38;5;141mB12    \u001b[0m │ \u001b[38;5;141mB1    \u001b[0m │ \u001b[38;5;141mB6     \u001b[0m │ \u001b[36m         2.31\u001b[0m │ \u001b[36m            1\u001b[0m │ \u001b[36m     678013\u001b[0m │  │\n",
       "│ │ \u001b[38;5;141mVehGas  \u001b[0m │ \u001b[36m 0\u001b[0m │ \u001b[36m   0\u001b[0m │ \u001b[38;5;141mDiesel  \u001b[0m │ \u001b[38;5;141mRegular\u001b[0m │ \u001b[38;5;141mDiesel\u001b[0m │ \u001b[38;5;141mRegular\u001b[0m │ \u001b[36m         6.51\u001b[0m │ \u001b[36m            1\u001b[0m │ \u001b[36m     678013\u001b[0m │  │\n",
       "│ │ \u001b[38;5;141mRegion  \u001b[0m │ \u001b[36m 0\u001b[0m │ \u001b[36m   0\u001b[0m │ \u001b[38;5;141mR82     \u001b[0m │ \u001b[38;5;141mR82    \u001b[0m │ \u001b[38;5;141mR11   \u001b[0m │ \u001b[38;5;141mR94    \u001b[0m │ \u001b[36m            3\u001b[0m │ \u001b[36m            1\u001b[0m │ \u001b[36m     678013\u001b[0m │  │\n",
       "│ └──────────┴────┴──────┴──────────┴─────────┴────────┴─────────┴───────────────┴───────────────┴─────────────┘  │\n",
       "╰────────────────────────────────────────────────────── End ──────────────────────────────────────────────────────╯\n"
      ]
     },
     "metadata": {},
     "output_type": "display_data"
    }
   ],
   "source": [
    "import skimpy as skim\n",
    "skim.skim(df)"
   ]
  },
  {
   "cell_type": "code",
   "execution_count": 31,
   "id": "affd1e64-a00f-4abd-8c51-f3dfce5ada32",
   "metadata": {},
   "outputs": [
    {
     "data": {
      "text/html": [
       "<div>\n",
       "<style scoped>\n",
       "    .dataframe tbody tr th:only-of-type {\n",
       "        vertical-align: middle;\n",
       "    }\n",
       "\n",
       "    .dataframe tbody tr th {\n",
       "        vertical-align: top;\n",
       "    }\n",
       "\n",
       "    .dataframe thead th {\n",
       "        text-align: right;\n",
       "    }\n",
       "</style>\n",
       "<table border=\"1\" class=\"dataframe\">\n",
       "  <thead>\n",
       "    <tr style=\"text-align: right;\">\n",
       "      <th></th>\n",
       "      <th>Exposure</th>\n",
       "      <th>VehPower</th>\n",
       "      <th>VehAge</th>\n",
       "      <th>DrivAge</th>\n",
       "      <th>VehGas</th>\n",
       "      <th>Density</th>\n",
       "    </tr>\n",
       "  </thead>\n",
       "  <tbody>\n",
       "    <tr>\n",
       "      <th>0</th>\n",
       "      <td>0.10</td>\n",
       "      <td>5</td>\n",
       "      <td>0</td>\n",
       "      <td>55</td>\n",
       "      <td>Regular</td>\n",
       "      <td>1217</td>\n",
       "    </tr>\n",
       "    <tr>\n",
       "      <th>1</th>\n",
       "      <td>0.77</td>\n",
       "      <td>5</td>\n",
       "      <td>0</td>\n",
       "      <td>55</td>\n",
       "      <td>Regular</td>\n",
       "      <td>1217</td>\n",
       "    </tr>\n",
       "    <tr>\n",
       "      <th>2</th>\n",
       "      <td>0.75</td>\n",
       "      <td>6</td>\n",
       "      <td>2</td>\n",
       "      <td>52</td>\n",
       "      <td>Diesel</td>\n",
       "      <td>54</td>\n",
       "    </tr>\n",
       "    <tr>\n",
       "      <th>3</th>\n",
       "      <td>0.09</td>\n",
       "      <td>7</td>\n",
       "      <td>0</td>\n",
       "      <td>46</td>\n",
       "      <td>Diesel</td>\n",
       "      <td>76</td>\n",
       "    </tr>\n",
       "    <tr>\n",
       "      <th>4</th>\n",
       "      <td>0.84</td>\n",
       "      <td>7</td>\n",
       "      <td>0</td>\n",
       "      <td>46</td>\n",
       "      <td>Diesel</td>\n",
       "      <td>76</td>\n",
       "    </tr>\n",
       "  </tbody>\n",
       "</table>\n",
       "</div>"
      ],
      "text/plain": [
       "   Exposure  VehPower  VehAge  DrivAge   VehGas  Density\n",
       "0      0.10         5       0       55  Regular     1217\n",
       "1      0.77         5       0       55  Regular     1217\n",
       "2      0.75         6       2       52   Diesel       54\n",
       "3      0.09         7       0       46   Diesel       76\n",
       "4      0.84         7       0       46   Diesel       76"
      ]
     },
     "execution_count": 31,
     "metadata": {},
     "output_type": "execute_result"
    }
   ],
   "source": [
    "#Required Columns\n",
    "da = df.loc[: , ['Exposure' ,'VehPower' , 'VehAge', 'DrivAge', 'VehGas' ,'Density',]]\n",
    "da.head()"
   ]
  },
  {
   "cell_type": "code",
   "execution_count": 32,
   "id": "f2b6bcbe-d1b3-4b67-96cd-a0349c3ac2ad",
   "metadata": {},
   "outputs": [
    {
     "name": "stdout",
     "output_type": "stream",
     "text": [
      "<class 'pandas.core.frame.DataFrame'>\n",
      "RangeIndex: 678013 entries, 0 to 678012\n",
      "Data columns (total 6 columns):\n",
      " #   Column    Non-Null Count   Dtype  \n",
      "---  ------    --------------   -----  \n",
      " 0   Exposure  678013 non-null  float64\n",
      " 1   VehPower  678013 non-null  int64  \n",
      " 2   VehAge    678013 non-null  int64  \n",
      " 3   DrivAge   678013 non-null  int64  \n",
      " 4   VehGas    678013 non-null  object \n",
      " 5   Density   678013 non-null  int64  \n",
      "dtypes: float64(1), int64(4), object(1)\n",
      "memory usage: 31.0+ MB\n"
     ]
    },
    {
     "data": {
      "text/plain": [
       "(None,\n",
       "             Exposure       VehPower         VehAge        DrivAge  \\\n",
       " count  678013.000000  678013.000000  678013.000000  678013.000000   \n",
       " mean        0.528750       6.454631       7.044265      45.499122   \n",
       " std         0.364442       2.050906       5.666232      14.137444   \n",
       " min         0.002732       4.000000       0.000000      18.000000   \n",
       " 25%         0.180000       5.000000       2.000000      34.000000   \n",
       " 50%         0.490000       6.000000       6.000000      44.000000   \n",
       " 75%         0.990000       7.000000      11.000000      55.000000   \n",
       " max         2.010000      15.000000     100.000000     100.000000   \n",
       " \n",
       "              Density  \n",
       " count  678013.000000  \n",
       " mean     1792.422405  \n",
       " std      3958.646564  \n",
       " min         1.000000  \n",
       " 25%        92.000000  \n",
       " 50%       393.000000  \n",
       " 75%      1658.000000  \n",
       " max     27000.000000  )"
      ]
     },
     "execution_count": 32,
     "metadata": {},
     "output_type": "execute_result"
    }
   ],
   "source": [
    "da.info() , da.describe()"
   ]
  },
  {
   "cell_type": "code",
   "execution_count": 33,
   "id": "cdfc6352-d089-4109-8e0c-5982e38e775c",
   "metadata": {},
   "outputs": [
    {
     "data": {
      "text/plain": [
       "Vehicle Power\n",
       "6     148976\n",
       "7     145401\n",
       "5     124821\n",
       "4     115349\n",
       "8      46956\n",
       "10     31354\n",
       "9      30085\n",
       "11     18352\n",
       "12      8214\n",
       "13      3229\n",
       "15      2926\n",
       "14      2350\n",
       "Name: count, dtype: int64"
      ]
     },
     "execution_count": 33,
     "metadata": {},
     "output_type": "execute_result"
    }
   ],
   "source": [
    "da.columns = ['Exposure' , 'Vehicle Power' ,\"Vehicle Age\",  'Driver Age' , 'VehicalGas' ,'Density']\n",
    "da[\"Vehicle Power\"].value_counts()"
   ]
  },
  {
   "cell_type": "markdown",
   "id": "1a7b2477-3bac-4cf7-8dc9-5dab412e7a76",
   "metadata": {},
   "source": [
    "## Univariate Analysis"
   ]
  },
  {
   "cell_type": "code",
   "execution_count": 34,
   "id": "3bbb8308-b9e7-4db4-85ab-154dfbfcf105",
   "metadata": {},
   "outputs": [
    {
     "data": {
      "text/plain": [
       "Exposure         0\n",
       "Vehicle Power    0\n",
       "Vehicle Age      0\n",
       "Driver Age       0\n",
       "VehicalGas       0\n",
       "Density          0\n",
       "dtype: int64"
      ]
     },
     "execution_count": 34,
     "metadata": {},
     "output_type": "execute_result"
    }
   ],
   "source": [
    "da.isna().sum()"
   ]
  },
  {
   "cell_type": "code",
   "execution_count": 35,
   "id": "d5f0cf6d-d12d-483c-9cda-bccd4ccf8414",
   "metadata": {},
   "outputs": [
    {
     "data": {
      "text/html": [
       "<div>\n",
       "<style scoped>\n",
       "    .dataframe tbody tr th:only-of-type {\n",
       "        vertical-align: middle;\n",
       "    }\n",
       "\n",
       "    .dataframe tbody tr th {\n",
       "        vertical-align: top;\n",
       "    }\n",
       "\n",
       "    .dataframe thead th {\n",
       "        text-align: right;\n",
       "    }\n",
       "</style>\n",
       "<table border=\"1\" class=\"dataframe\">\n",
       "  <thead>\n",
       "    <tr style=\"text-align: right;\">\n",
       "      <th></th>\n",
       "      <th>Exposure</th>\n",
       "      <th>Vehicle Power</th>\n",
       "      <th>Vehicle Age</th>\n",
       "      <th>Driver Age</th>\n",
       "      <th>Density</th>\n",
       "    </tr>\n",
       "  </thead>\n",
       "  <tbody>\n",
       "    <tr>\n",
       "      <th>count</th>\n",
       "      <td>678013.000000</td>\n",
       "      <td>678013.000000</td>\n",
       "      <td>678013.000000</td>\n",
       "      <td>678013.000000</td>\n",
       "      <td>678013.000000</td>\n",
       "    </tr>\n",
       "    <tr>\n",
       "      <th>mean</th>\n",
       "      <td>0.528750</td>\n",
       "      <td>6.454631</td>\n",
       "      <td>7.044265</td>\n",
       "      <td>45.499122</td>\n",
       "      <td>1792.422405</td>\n",
       "    </tr>\n",
       "    <tr>\n",
       "      <th>std</th>\n",
       "      <td>0.364442</td>\n",
       "      <td>2.050906</td>\n",
       "      <td>5.666232</td>\n",
       "      <td>14.137444</td>\n",
       "      <td>3958.646564</td>\n",
       "    </tr>\n",
       "    <tr>\n",
       "      <th>min</th>\n",
       "      <td>0.002732</td>\n",
       "      <td>4.000000</td>\n",
       "      <td>0.000000</td>\n",
       "      <td>18.000000</td>\n",
       "      <td>1.000000</td>\n",
       "    </tr>\n",
       "    <tr>\n",
       "      <th>25%</th>\n",
       "      <td>0.180000</td>\n",
       "      <td>5.000000</td>\n",
       "      <td>2.000000</td>\n",
       "      <td>34.000000</td>\n",
       "      <td>92.000000</td>\n",
       "    </tr>\n",
       "    <tr>\n",
       "      <th>50%</th>\n",
       "      <td>0.490000</td>\n",
       "      <td>6.000000</td>\n",
       "      <td>6.000000</td>\n",
       "      <td>44.000000</td>\n",
       "      <td>393.000000</td>\n",
       "    </tr>\n",
       "    <tr>\n",
       "      <th>75%</th>\n",
       "      <td>0.990000</td>\n",
       "      <td>7.000000</td>\n",
       "      <td>11.000000</td>\n",
       "      <td>55.000000</td>\n",
       "      <td>1658.000000</td>\n",
       "    </tr>\n",
       "    <tr>\n",
       "      <th>max</th>\n",
       "      <td>2.010000</td>\n",
       "      <td>15.000000</td>\n",
       "      <td>100.000000</td>\n",
       "      <td>100.000000</td>\n",
       "      <td>27000.000000</td>\n",
       "    </tr>\n",
       "  </tbody>\n",
       "</table>\n",
       "</div>"
      ],
      "text/plain": [
       "            Exposure  Vehicle Power    Vehicle Age     Driver Age  \\\n",
       "count  678013.000000  678013.000000  678013.000000  678013.000000   \n",
       "mean        0.528750       6.454631       7.044265      45.499122   \n",
       "std         0.364442       2.050906       5.666232      14.137444   \n",
       "min         0.002732       4.000000       0.000000      18.000000   \n",
       "25%         0.180000       5.000000       2.000000      34.000000   \n",
       "50%         0.490000       6.000000       6.000000      44.000000   \n",
       "75%         0.990000       7.000000      11.000000      55.000000   \n",
       "max         2.010000      15.000000     100.000000     100.000000   \n",
       "\n",
       "             Density  \n",
       "count  678013.000000  \n",
       "mean     1792.422405  \n",
       "std      3958.646564  \n",
       "min         1.000000  \n",
       "25%        92.000000  \n",
       "50%       393.000000  \n",
       "75%      1658.000000  \n",
       "max     27000.000000  "
      ]
     },
     "execution_count": 35,
     "metadata": {},
     "output_type": "execute_result"
    }
   ],
   "source": [
    "#summary statistics for the quantative variables\n",
    "da.describe()"
   ]
  },
  {
   "cell_type": "code",
   "execution_count": 38,
   "id": "9a5e14f3-9854-46d4-84c0-f6347e28bd40",
   "metadata": {},
   "outputs": [
    {
     "data": {
      "image/png": "[encoded data removed]",
      "text/plain": [
       "<Figure size 1500x1000 with 4 Axes>"
      ]
     },
     "metadata": {},
     "output_type": "display_data"
    }
   ],
   "source": [
    "# creating histogram for quantitative variables\n",
    "fig, axs = plt.subplots(2,2, figsize=(15, 10))\n",
    "      \n",
    "sns.histplot(data= da, x=\"Exposure\", kde=True, color=\"red\", ax=axs[0,0])\n",
    "sns.histplot(data= da, x=\"Vehicle Age\", bins = 50, kde=True, color=\"skyblue\", ax=axs[0,1])\n",
    "sns.histplot(data= da, x=\"Driver Age\", kde=True, bins = 10, color=\"olive\", ax=axs[1,0])\n",
    "sns.histplot(data= da, x=\"Density\", kde=True, color=\"gold\", ax=axs[1,1])\n",
    "\n",
    "plt.show()"
   ]
  },
  {
   "cell_type": "markdown",
   "id": "e38c189b-956d-4564-8721-4e9270c2e65a",
   "metadata": {},
   "source": [
    "Thes different distributtions of different variables can be seen. Exposure is more or less uniform but has a major spike in the end. Vehicle age shows a decreasing distribution. Driver age has a relatively normal distribution with slight right skewness. "
   ]
  },
  {
   "cell_type": "markdown",
   "id": "0e636faf-6cf2-46ba-9810-ae895c4d697e",
   "metadata": {},
   "source": [
    "## Bivariate Analysis"
   ]
  },
  {
   "cell_type": "code",
   "execution_count": 39,
   "id": "9776b676-a05d-433f-bae2-ce89d7f1c3dd",
   "metadata": {},
   "outputs": [
    {
     "name": "stdout",
     "output_type": "stream",
     "text": [
      "Pearson correlation between Exposure and Vehicle Power: 0.15155421720487597\n"
     ]
    }
   ],
   "source": [
    "corr_value = da['Exposure'].corr(da['Vehicle Age'], method='pearson')\n",
    "print(\"Pearson correlation between Exposure and Vehicle Age:\", corr_value)\n"
   ]
  },
  {
   "cell_type": "code",
   "execution_count": 40,
   "id": "70bd64c2-6523-4fca-bbbc-a961f4dad208",
   "metadata": {},
   "outputs": [
    {
     "name": "stdout",
     "output_type": "stream",
     "text": [
      "Spearman correlation between Exposure and Vehicle Power: 0.18416138584790526\n"
     ]
    }
   ],
   "source": [
    "spearman_value = da['Exposure'].corr(da['Vehicle Age'], method='spearman')\n",
    "print(\"Spearman correlation between Exposure and Vehicle Power:\", spearman_value)"
   ]
  },
  {
   "cell_type": "code",
   "execution_count": 41,
   "id": "9dee5ecc-3dbc-47ce-9b1b-d5c889ba5430",
   "metadata": {},
   "outputs": [
    {
     "name": "stdout",
     "output_type": "stream",
     "text": [
      "Driver Age   18   19   20   21   22   23   24   25   26    27   ...  91   92   \\\n",
      "Vehicle Age                                                     ...             \n",
      "0             25   79  117  190  343  498  575  655  769   820  ...    1    0   \n",
      "1             15   59  148  208  302  515  751  875  988  1139  ...    2    3   \n",
      "2              9   68   96  168  273  318  532  724  864   971  ...    6    1   \n",
      "3             14   53  107  185  254  335  408  564  765   899  ...    6    3   \n",
      "4             21   64  137  170  275  324  434  528  649   763  ...    3    2   \n",
      "...          ...  ...  ...  ...  ...  ...  ...  ...  ...   ...  ...  ...  ...   \n",
      "83             0    0    0    0    0    0    0    0    0     0  ...    0    0   \n",
      "84             0    0    0    0    0    0    0    0    0     0  ...    0    0   \n",
      "85             0    0    0    0    0    0    0    0    0     0  ...    0    0   \n",
      "99             0    2    0    0    0    2    0    0    0     0  ...    0    0   \n",
      "100            0    0    2    0    0    0    1    0    0     0  ...    0    0   \n",
      "\n",
      "Driver Age   93   94   95   96   97   98   99   100  \n",
      "Vehicle Age                                          \n",
      "0              1    1    0    0    0    1    3    0  \n",
      "1              1    1    3    0    0    0    6    0  \n",
      "2              2    0    1    2    0    0    5    2  \n",
      "3              3    2    0    0    2    0    4    1  \n",
      "4              3    2    2    0    0    0    5    0  \n",
      "...          ...  ...  ...  ...  ...  ...  ...  ...  \n",
      "83             0    0    0    0    0    0    0    0  \n",
      "84             0    0    0    0    0    0    0    0  \n",
      "85             0    0    0    0    0    0    0    0  \n",
      "99             0    0    0    0    0    0    0    0  \n",
      "100            0    0    0    0    0    0    0    0  \n",
      "\n",
      "[78 rows x 83 columns]\n"
     ]
    }
   ],
   "source": [
    "\n",
    "contingency_table = pd.crosstab(da['Vehicle Age'], da['Driver Age'])\n",
    "print(contingency_table)"
   ]
  },
  {
   "cell_type": "code",
   "execution_count": 42,
   "id": "8f77b81d-ae57-4367-b8d2-e8d00ee5f605",
   "metadata": {},
   "outputs": [
    {
     "name": "stdout",
     "output_type": "stream",
     "text": [
      "Chi-Square: 22789.907137948263\n",
      "p-value: 0.0\n",
      "Degrees of Freedom: 6314\n",
      "Expected frequencies:\n",
      " [[6.36990323e+01 2.03700649e+02 3.13044977e+02 ... 4.25795671e-01\n",
      "  5.96113939e+00 2.55477402e-01]\n",
      " [7.86421971e+01 2.51486812e+02 3.86482241e+02 ... 5.25683136e-01\n",
      "  7.35956390e+00 3.15409882e-01]\n",
      " [6.52269971e+01 2.08586868e+02 3.20554066e+02 ... 4.36009339e-01\n",
      "  6.10413075e+00 2.61605603e-01]\n",
      " ...\n",
      " [1.10322368e-03 3.52795595e-03 5.42172495e-03 ... 7.37448987e-06\n",
      "  1.03242858e-04 4.42469392e-06]\n",
      " [2.53741447e-02 8.11429869e-02 1.24699674e-01 ... 1.69613267e-04\n",
      "  2.37458574e-03 1.01767960e-04]\n",
      " [2.75805921e-02 8.81988988e-02 1.35543124e-01 ... 1.84362247e-04\n",
      "  2.58107145e-03 1.10617348e-04]]\n"
     ]
    }
   ],
   "source": [
    "from scipy.stats import chi2_contingency\n",
    "\n",
    "chi2, p_value, dof, expected = chi2_contingency(contingency_table)\n",
    "print(\"Chi-Square:\", chi2)\n",
    "print(\"p-value:\", p_value)\n",
    "print(\"Degrees of Freedom:\", dof)\n",
    "print(\"Expected frequencies:\\n\", expected)"
   ]
  },
  {
   "cell_type": "markdown",
   "id": "4e924abe-3d68-4e66-960f-322be00bb4ad",
   "metadata": {},
   "source": [
    "Thus bivariate analysis was performed and the results obtained. "
   ]
  },
  {
   "cell_type": "code",
   "execution_count": null,
   "id": "f6657892-d789-40b4-ac50-d81ee5e85fcc",
   "metadata": {},
   "outputs": [],
   "source": []
  }
 ],
 "metadata": {
  "kernelspec": {
   "display_name": "Python 3 (ipykernel)",
   "language": "python",
   "name": "python3"
  },
  "language_info": {
   "codemirror_mode": {
    "name": "ipython",
    "version": 3
   },
   "file_extension": ".py",
   "mimetype": "text/x-python",
   "name": "python",
   "nbconvert_exporter": "python",
   "pygments_lexer": "ipython3",
   "version": "3.12.4"
  }
 },
 "nbformat": 4,
 "nbformat_minor": 5
}
